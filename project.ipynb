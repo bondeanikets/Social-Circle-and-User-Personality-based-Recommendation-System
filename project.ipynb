{
 "cells": [
  {
   "cell_type": "markdown",
   "metadata": {},
   "source": [
    "#### CSCE 670 :: Information Storage and Retrieval :: Texas A&M University :: Spring 2017\n",
    "\n",
    "#### PROJECT\n",
    "\n",
    "# SCUPER: Social Circle and User PErsonality based Recommendation System\n",
    "\n",
    "### Team : Aniket Bonde, Nagaraj Janakiraman, Sudheer Dantuluri\n",
    "\n",
    "### [25% of final grade]\n",
    "\n",
    "### Due: Tuesday, May 2 by 11:59pm\n",
    "\n",
    "*Goal of this project:* Get hand-on experience with building a recommendation system.\n"
   ]
  },
  {
   "cell_type": "markdown",
   "metadata": {},
   "source": [
    "# 1. Introduction and Problem Statement\n",
    "\n",
    " Recommender systems play a pivotal role in boosting the sales of major e-commerce systems. With rapid increase in the number of registered users and products on e-commerce systems, the problem of cold start for users (new users into the RS with little historical behavior) and the sparsity of datasets (the proportion of rated user-item pairs in all the user-item pairs of RS) has become increasingly intractable.\n",
    "\n",
    " Fortunately, the appearance of web2.0 greatly improved user’s initiative on the Internet, and then brought volume of social networks such as Facebook, Twitter, Yelp, Douban, Epinions, etc. This new factor of social network - the interpersonal interest based on circles of friends brings opportunities to the recommender system to solve the cold start & sparsity problem of datasets.\n",
    "\n",
    " In this Project, we propose to implement a personalized recommendation model that fuses in user’s personal interest and social factors like interpersonal similarity and interpersonal influence that is based on social network. The factor of user personal interest captures direct connection between user and item latent feature vectors, and social factors capture connections between user and his/here friend's latent feature vectors."
   ]
  },
  {
   "cell_type": "markdown",
   "metadata": {},
   "source": [
    "# 2. Related Work\n",
    "\n",
    " Recently, there have been some works that address to solve the cold start problem by factoring in social network features. Some recent significant contributions are CircleCon Model [1], ContextMF model [2] and [3]. [1] proposed a model that uses the concept of ‘inferred trust circle’ based on the domain-obvious circles of friends on social network. However, [2] demonstrated that individual preference (personal interest) is also a significant factor in social network. [3] builds on these ideas and proposes a personalized recommendation model based on probabilistic matrix factorization that considers three factors - personal interest, interpersonal interest similarity and interpersonal influence. Detailed explanation for each factor is presented in the methodology section.\n",
    "\n",
    " In our project, we desire to understand the effects of factors proposed in [3], and evaluate it on a real dataset like ‘Yelp’ to recommend businesses for users with very less rating history (cold start scenario). We would evaluate the model that considers user personal interest and social circle and compare it against a model like classic Matrix Factorization that neglects factors from social network.\n",
    "        \n",
    "### 2.1 References\n",
    "\n",
    "[1] X.-W. Yang, H. Steck, and Y. Liu, “Circle-based recommendation in online social networks,” in Proc. 18th ACM SIGKDD Int. Conf. KDD, New York, NY, USA, Aug. 2012, pp. 1267–1275.\n",
    "\n",
    "[2] M. Jiang et al., “Social contextual recommendation,” in Proc. 21st ACM Int. CIKM, New York, NY, USA, 2012, pp. 45–54.\n",
    "\n",
    "[3] H. Feng and X. Qian, “Recommendation via user’s personality and social contextual,” in Proc. 22nd ACM CIKM, New York, NY, USA, 2013\n",
    "\n",
    "[4] R. Sinha and K. Swearingen, “Comparing recommendations made by online systems and friends,” in Proc. DELOS Workshop Personalisation Recommender Systems Digital Libraries, Dublin, Ireland, 2001."
   ]
  },
  {
   "cell_type": "markdown",
   "metadata": {},
   "source": [
    "# 3. High-level Approach\n",
    "\n",
    "  We first start with the basic matrix factorization model without any social factors. The task of a recommender system is to decrease the error of predicted value and the actual rating. Thus, this basic model is trained on the observed rating data by minimizing the objective error function (using gradient descent)\n",
    " \n",
    "![title](PRM.jpg)\n",
    "\n",
    "  Then we add three factors proposed in PRM for better personalization:\n",
    "\n",
    "## 3.1 Interpersonal influence: Whom you would trust?\n",
    "    \n",
    "  Interpersonal influence is the measure of trust a particular user puts in another user. The results in [4] show that the user’s friends consistently provided better recommendations. For example, 90% of users believe the book recommended is good from friends, 75% of users believe that the recommendation is useful from friends.\n",
    "\n",
    "## 3.2 Interpersonal interest similarity: Whose interest is similar to yours?\n",
    "\n",
    "   The basic idea is that user latent feature vector should be similar to his/her friends’ latent feature vector based on the similarity of their interest. Also, for cold start users, we infer interest circle to enhance the intrinsic link of user latent feature.\n",
    "\n",
    "## 3.3 User personal interest: Which items you would interest in?\n",
    "\n",
    " Personal interest denotes user’s individuality of rating items, especially for the experienced users, and these factors fuse together to improve the accuracy and applicability of recommender system.\n",
    "    \n",
    " The model that includes the 3 factors is again trained on the training dataset to minimize an objective cost function (using gradient descent) to learn the best latent features.\n",
    " \n",
    " We then use the latent features to predict the ratings for the testing set.  \n",
    " \n",
    "## 3.4 Flow-chart\n",
    "\n",
    "![title](flowchart.png)"
   ]
  },
  {
   "cell_type": "markdown",
   "metadata": {},
   "source": [
    "# 4. Methodology\n",
    "\n",
    "## 4.1 Dataset\n",
    "\n",
    "Initially, we chose to use the [yelp](https://www.yelp.com/dataset_challenge) data-set  in our proposal. We started our project by trying to come up with a simplified dataset first. Couple of strategies that we tried include:\n",
    "\n",
    "a. Finding user with maximum number of friends and then expanding the user-database by crawling breadth first to n(initialized to 1) levels from this user. We stop incrementing n if the size of the accumulated number of users crosses our target number of users. Then we consider only reviews and businesses that correspond to these users only.\n",
    "\n",
    "b. Pick target/10 random users and expand them one level.Then we consider only reviews and businesses that correspond to these users only.\n",
    "\n",
    "Code for the above experiments present in github @ dataset/baby/compressDataset.py and read_json.py.\n",
    "\n",
    "However, while evaluating various strategies in trying to come up with a smaller, \"proper\" (one that preserves the social relations while trimming the dataset), we came across [this](http://smiles.xjtu.edu.cn/Download/Download_yelp.html) processed dataset. It is composed from the original yelp data-set by the very authors of the research paper that this project is based up on.\n",
    "\n",
    "The authors have created these processed datasets for the following eight categories : restaurants, shopping, nightlife, pets, hotelstravel, homeservices, beautysvc and active. Among those, we chose the dataset \"Night life\" as we found the size of that dataset to be well suited for our task given the constraint on the resources (time and computational-power).\n",
    "\n",
    "\n",
    "## 4.2 Algorithm\n",
    "\n",
    "### 4.2.1 \n"
   ]
  },
  {
   "cell_type": "markdown",
   "metadata": {},
   "source": [
    "# 5. Evaluation\n",
    " \n",
    "## 5.1 Metric\n",
    "\n",
    " We evaluate our model by comparing the two models (with and without social interaction information) based on Root Mean Squared Error (RMSE) and Mean Absolute Error (MAE). We also evaluate our models for users that have very less rating history (cold start scenario) and draw conclusions on the effect of using social features.\n",
    " \n",
    "## 5.2 Results\n",
    "\n",
    "### 5.2.1 PRM Model - Iteration vs training-error & test-error\n",
    "\n",
    "Graph-plot Curve\n",
    "\n",
    "Write Key-takeaways\n",
    "\n",
    "### 5.PRM Model - Bar graph comparing RMSE of MF, UI, IS, II, PRM\n",
    "\n",
    "bar-graph\n",
    "\n",
    "Write Key-takeaways\n",
    "\n",
    "### PRM Model - Bar graph comparing MAE of MF, UI, IS, II, PRM\n",
    "\n",
    "bar-graph\n",
    "\n",
    "Write Key-takeaways\n",
    "\n",
    "      "
   ]
  },
  {
   "cell_type": "markdown",
   "metadata": {},
   "source": [
    "# 5. Conclusion and Next Steps\n",
    "\n",
    "        "
   ]
  },
  {
   "cell_type": "code",
   "execution_count": null,
   "metadata": {
    "collapsed": true
   },
   "outputs": [],
   "source": []
  }
 ],
 "metadata": {
  "anaconda-cloud": {},
  "kernelspec": {
   "display_name": "Python [default]",
   "language": "python",
   "name": "python2"
  },
  "language_info": {
   "codemirror_mode": {
    "name": "ipython",
    "version": 2
   },
   "file_extension": ".py",
   "mimetype": "text/x-python",
   "name": "python",
   "nbconvert_exporter": "python",
   "pygments_lexer": "ipython2",
   "version": "2.7.12"
  }
 },
 "nbformat": 4,
 "nbformat_minor": 0
}
